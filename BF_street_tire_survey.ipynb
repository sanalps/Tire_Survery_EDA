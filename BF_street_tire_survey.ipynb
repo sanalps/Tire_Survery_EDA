{
 "cells": [
  {
   "cell_type": "code",
   "execution_count": null,
   "metadata": {
    "id": "xDOpnc6Xb9fZ"
   },
   "outputs": [],
   "source": [
    "import pandas as pd"
   ]
  },
  {
   "cell_type": "code",
   "execution_count": null,
   "metadata": {
    "id": "hvSskOVmNy1u"
   },
   "outputs": [],
   "source": []
  },
  {
   "cell_type": "code",
   "execution_count": null,
   "metadata": {
    "id": "vTgtinPwcPj2"
   },
   "outputs": [],
   "source": [
    "df_surevey = pd.read_excel(\"/content/BF_StreetTireSurvey2010 (1) (copy).xls\")"
   ]
  },
  {
   "cell_type": "code",
   "execution_count": null,
   "metadata": {
    "colab": {
     "base_uri": "https://localhost:8080/",
     "height": 641
    },
    "executionInfo": {
     "elapsed": 839,
     "status": "ok",
     "timestamp": 1674374759496,
     "user": {
      "displayName": "Sanal P. S.",
      "userId": "04765052397544712389"
     },
     "user_tz": -330
    },
    "id": "IoYumq1lcPsZ",
    "outputId": "21379a1d-6eba-41dc-d5d9-788b8d2c5963"
   },
   "outputs": [
    {
     "data": {
      "text/html": [
       "\n",
       "  <div id=\"df-6ea52145-0c2d-431d-b3e7-aee4d69820ec\">\n",
       "    <div class=\"colab-df-container\">\n",
       "      <div>\n",
       "<style scoped>\n",
       "    .dataframe tbody tr th:only-of-type {\n",
       "        vertical-align: middle;\n",
       "    }\n",
       "\n",
       "    .dataframe tbody tr th {\n",
       "        vertical-align: top;\n",
       "    }\n",
       "\n",
       "    .dataframe thead th {\n",
       "        text-align: right;\n",
       "    }\n",
       "</style>\n",
       "<table border=\"1\" class=\"dataframe\">\n",
       "  <thead>\n",
       "    <tr style=\"text-align: right;\">\n",
       "      <th></th>\n",
       "      <th>Brand</th>\n",
       "      <th>Model</th>\n",
       "      <th>Size</th>\n",
       "      <th>Price (2007-2009)</th>\n",
       "      <th>Wear</th>\n",
       "      <th>Dry Grip</th>\n",
       "      <th>Wet Grip</th>\n",
       "      <th>Dirt Grip</th>\n",
       "      <th>Flat</th>\n",
       "      <th>Comfort</th>\n",
       "      <th>Price</th>\n",
       "      <th>Road Quality</th>\n",
       "      <th>Buy Again?</th>\n",
       "      <th>Comments</th>\n",
       "      <th>Region</th>\n",
       "    </tr>\n",
       "  </thead>\n",
       "  <tbody>\n",
       "    <tr>\n",
       "      <th>0</th>\n",
       "      <td>Avocet</td>\n",
       "      <td>Fasgrip</td>\n",
       "      <td>700x28C</td>\n",
       "      <td>29</td>\n",
       "      <td>4</td>\n",
       "      <td>5</td>\n",
       "      <td>5</td>\n",
       "      <td>3</td>\n",
       "      <td>5</td>\n",
       "      <td>5</td>\n",
       "      <td>4</td>\n",
       "      <td>3</td>\n",
       "      <td>Yes</td>\n",
       "      <td>Have tried many; Avocet Fasgrip is it, and no ...</td>\n",
       "      <td>Tucson, AZ</td>\n",
       "    </tr>\n",
       "    <tr>\n",
       "      <th>1</th>\n",
       "      <td>Bontrager</td>\n",
       "      <td>Hardcase</td>\n",
       "      <td>27 x 1 1/4</td>\n",
       "      <td>35</td>\n",
       "      <td>5</td>\n",
       "      <td>5</td>\n",
       "      <td>3</td>\n",
       "      <td>3</td>\n",
       "      <td>5</td>\n",
       "      <td>5</td>\n",
       "      <td>5</td>\n",
       "      <td>3</td>\n",
       "      <td>Yes</td>\n",
       "      <td>Love this tire, and appreciate that a good fla...</td>\n",
       "      <td>Chicago IL</td>\n",
       "    </tr>\n",
       "    <tr>\n",
       "      <th>2</th>\n",
       "      <td>Bontrager</td>\n",
       "      <td>RaceLite</td>\n",
       "      <td>700Cx25</td>\n",
       "      <td>80</td>\n",
       "      <td>4</td>\n",
       "      <td>4</td>\n",
       "      <td>4</td>\n",
       "      <td>4</td>\n",
       "      <td>2</td>\n",
       "      <td>5</td>\n",
       "      <td>3</td>\n",
       "      <td>3</td>\n",
       "      <td>No</td>\n",
       "      <td>The two strikes against these tires are (a) th...</td>\n",
       "      <td>Portland, Oregon</td>\n",
       "    </tr>\n",
       "    <tr>\n",
       "      <th>3</th>\n",
       "      <td>Bontrager</td>\n",
       "      <td>Select Invert K</td>\n",
       "      <td>700x38C</td>\n",
       "      <td>25</td>\n",
       "      <td>4</td>\n",
       "      <td>5</td>\n",
       "      <td>4</td>\n",
       "      <td>3</td>\n",
       "      <td>5</td>\n",
       "      <td>5</td>\n",
       "      <td>3</td>\n",
       "      <td>1</td>\n",
       "      <td>Yes</td>\n",
       "      <td>Comfy and wide. At a guess I'd get three or so...</td>\n",
       "      <td>San Diego</td>\n",
       "    </tr>\n",
       "    <tr>\n",
       "      <th>4</th>\n",
       "      <td>Clement</td>\n",
       "      <td>Monza</td>\n",
       "      <td>700x23</td>\n",
       "      <td>25</td>\n",
       "      <td>4</td>\n",
       "      <td>4</td>\n",
       "      <td>4</td>\n",
       "      <td>2</td>\n",
       "      <td>4</td>\n",
       "      <td>3</td>\n",
       "      <td>3</td>\n",
       "      <td>3</td>\n",
       "      <td>Yes</td>\n",
       "      <td>4000km of urban riding and 1 flat.  Do well on...</td>\n",
       "      <td>Vancouver, Canada</td>\n",
       "    </tr>\n",
       "    <tr>\n",
       "      <th>...</th>\n",
       "      <td>...</td>\n",
       "      <td>...</td>\n",
       "      <td>...</td>\n",
       "      <td>...</td>\n",
       "      <td>...</td>\n",
       "      <td>...</td>\n",
       "      <td>...</td>\n",
       "      <td>...</td>\n",
       "      <td>...</td>\n",
       "      <td>...</td>\n",
       "      <td>...</td>\n",
       "      <td>...</td>\n",
       "      <td>...</td>\n",
       "      <td>...</td>\n",
       "      <td>...</td>\n",
       "    </tr>\n",
       "    <tr>\n",
       "      <th>208</th>\n",
       "      <td>WTB</td>\n",
       "      <td>All Terrainasaurus</td>\n",
       "      <td>700x32</td>\n",
       "      <td>20</td>\n",
       "      <td>5</td>\n",
       "      <td>5</td>\n",
       "      <td>4</td>\n",
       "      <td>4</td>\n",
       "      <td>5</td>\n",
       "      <td>5</td>\n",
       "      <td>5</td>\n",
       "      <td>3</td>\n",
       "      <td>Yes</td>\n",
       "      <td>This tire isn't so hot at higher speeds or str...</td>\n",
       "      <td>Tacoma!</td>\n",
       "    </tr>\n",
       "    <tr>\n",
       "      <th>209</th>\n",
       "      <td>WTB</td>\n",
       "      <td>allterrainasaurus</td>\n",
       "      <td>700X 38</td>\n",
       "      <td>20</td>\n",
       "      <td>5</td>\n",
       "      <td>5</td>\n",
       "      <td>5</td>\n",
       "      <td>5</td>\n",
       "      <td>3</td>\n",
       "      <td>4</td>\n",
       "      <td>5</td>\n",
       "      <td>2</td>\n",
       "      <td>Yes</td>\n",
       "      <td>A great rural tire. Heavy but tough and grippy.</td>\n",
       "      <td>rural Ca,rural Az</td>\n",
       "    </tr>\n",
       "    <tr>\n",
       "      <th>210</th>\n",
       "      <td>WTB</td>\n",
       "      <td>Slickasaurus</td>\n",
       "      <td>700X35</td>\n",
       "      <td>30</td>\n",
       "      <td>5</td>\n",
       "      <td>4</td>\n",
       "      <td>4</td>\n",
       "      <td>3</td>\n",
       "      <td>4</td>\n",
       "      <td>5</td>\n",
       "      <td>5</td>\n",
       "      <td>4</td>\n",
       "      <td>Yes</td>\n",
       "      <td>NaN</td>\n",
       "      <td>Kansas City area</td>\n",
       "    </tr>\n",
       "    <tr>\n",
       "      <th>211</th>\n",
       "      <td>WTB</td>\n",
       "      <td>Slickasaurus</td>\n",
       "      <td>700x38</td>\n",
       "      <td>10</td>\n",
       "      <td>4</td>\n",
       "      <td>4</td>\n",
       "      <td>4</td>\n",
       "      <td>1</td>\n",
       "      <td>5</td>\n",
       "      <td>5</td>\n",
       "      <td>5</td>\n",
       "      <td>2</td>\n",
       "      <td>Yes</td>\n",
       "      <td>pulled a goat head out of the sidewall last we...</td>\n",
       "      <td>SLC, UT</td>\n",
       "    </tr>\n",
       "    <tr>\n",
       "      <th>212</th>\n",
       "      <td>WTB</td>\n",
       "      <td>Slickasaurus</td>\n",
       "      <td>26x1.5</td>\n",
       "      <td>20</td>\n",
       "      <td>5</td>\n",
       "      <td>5</td>\n",
       "      <td>5</td>\n",
       "      <td>3</td>\n",
       "      <td>3</td>\n",
       "      <td>3</td>\n",
       "      <td>5</td>\n",
       "      <td>3</td>\n",
       "      <td>Yes</td>\n",
       "      <td>The ride is a bit harsh when running at max pr...</td>\n",
       "      <td>Colorado Springs, CO</td>\n",
       "    </tr>\n",
       "  </tbody>\n",
       "</table>\n",
       "<p>213 rows × 15 columns</p>\n",
       "</div>\n",
       "      <button class=\"colab-df-convert\" onclick=\"convertToInteractive('df-6ea52145-0c2d-431d-b3e7-aee4d69820ec')\"\n",
       "              title=\"Convert this dataframe to an interactive table.\"\n",
       "              style=\"display:none;\">\n",
       "        \n",
       "  <svg xmlns=\"http://www.w3.org/2000/svg\" height=\"24px\"viewBox=\"0 0 24 24\"\n",
       "       width=\"24px\">\n",
       "    <path d=\"M0 0h24v24H0V0z\" fill=\"none\"/>\n",
       "    <path d=\"M18.56 5.44l.94 2.06.94-2.06 2.06-.94-2.06-.94-.94-2.06-.94 2.06-2.06.94zm-11 1L8.5 8.5l.94-2.06 2.06-.94-2.06-.94L8.5 2.5l-.94 2.06-2.06.94zm10 10l.94 2.06.94-2.06 2.06-.94-2.06-.94-.94-2.06-.94 2.06-2.06.94z\"/><path d=\"M17.41 7.96l-1.37-1.37c-.4-.4-.92-.59-1.43-.59-.52 0-1.04.2-1.43.59L10.3 9.45l-7.72 7.72c-.78.78-.78 2.05 0 2.83L4 21.41c.39.39.9.59 1.41.59.51 0 1.02-.2 1.41-.59l7.78-7.78 2.81-2.81c.8-.78.8-2.07 0-2.86zM5.41 20L4 18.59l7.72-7.72 1.47 1.35L5.41 20z\"/>\n",
       "  </svg>\n",
       "      </button>\n",
       "      \n",
       "  <style>\n",
       "    .colab-df-container {\n",
       "      display:flex;\n",
       "      flex-wrap:wrap;\n",
       "      gap: 12px;\n",
       "    }\n",
       "\n",
       "    .colab-df-convert {\n",
       "      background-color: #E8F0FE;\n",
       "      border: none;\n",
       "      border-radius: 50%;\n",
       "      cursor: pointer;\n",
       "      display: none;\n",
       "      fill: #1967D2;\n",
       "      height: 32px;\n",
       "      padding: 0 0 0 0;\n",
       "      width: 32px;\n",
       "    }\n",
       "\n",
       "    .colab-df-convert:hover {\n",
       "      background-color: #E2EBFA;\n",
       "      box-shadow: 0px 1px 2px rgba(60, 64, 67, 0.3), 0px 1px 3px 1px rgba(60, 64, 67, 0.15);\n",
       "      fill: #174EA6;\n",
       "    }\n",
       "\n",
       "    [theme=dark] .colab-df-convert {\n",
       "      background-color: #3B4455;\n",
       "      fill: #D2E3FC;\n",
       "    }\n",
       "\n",
       "    [theme=dark] .colab-df-convert:hover {\n",
       "      background-color: #434B5C;\n",
       "      box-shadow: 0px 1px 3px 1px rgba(0, 0, 0, 0.15);\n",
       "      filter: drop-shadow(0px 1px 2px rgba(0, 0, 0, 0.3));\n",
       "      fill: #FFFFFF;\n",
       "    }\n",
       "  </style>\n",
       "\n",
       "      <script>\n",
       "        const buttonEl =\n",
       "          document.querySelector('#df-6ea52145-0c2d-431d-b3e7-aee4d69820ec button.colab-df-convert');\n",
       "        buttonEl.style.display =\n",
       "          google.colab.kernel.accessAllowed ? 'block' : 'none';\n",
       "\n",
       "        async function convertToInteractive(key) {\n",
       "          const element = document.querySelector('#df-6ea52145-0c2d-431d-b3e7-aee4d69820ec');\n",
       "          const dataTable =\n",
       "            await google.colab.kernel.invokeFunction('convertToInteractive',\n",
       "                                                     [key], {});\n",
       "          if (!dataTable) return;\n",
       "\n",
       "          const docLinkHtml = 'Like what you see? Visit the ' +\n",
       "            '<a target=\"_blank\" href=https://colab.research.google.com/notebooks/data_table.ipynb>data table notebook</a>'\n",
       "            + ' to learn more about interactive tables.';\n",
       "          element.innerHTML = '';\n",
       "          dataTable['output_type'] = 'display_data';\n",
       "          await google.colab.output.renderOutput(dataTable, element);\n",
       "          const docLink = document.createElement('div');\n",
       "          docLink.innerHTML = docLinkHtml;\n",
       "          element.appendChild(docLink);\n",
       "        }\n",
       "      </script>\n",
       "    </div>\n",
       "  </div>\n",
       "  "
      ],
      "text/plain": [
       "         Brand               Model        Size Price (2007-2009)  Wear  \\\n",
       "0       Avocet             Fasgrip     700x28C                29     4   \n",
       "1    Bontrager            Hardcase  27 x 1 1/4                35     5   \n",
       "2    Bontrager            RaceLite     700Cx25                80     4   \n",
       "3    Bontrager     Select Invert K     700x38C                25     4   \n",
       "4      Clement               Monza      700x23                25     4   \n",
       "..         ...                 ...         ...               ...   ...   \n",
       "208        WTB  All Terrainasaurus      700x32                20     5   \n",
       "209        WTB   allterrainasaurus     700X 38                20     5   \n",
       "210        WTB        Slickasaurus      700X35                30     5   \n",
       "211        WTB        Slickasaurus      700x38                10     4   \n",
       "212        WTB        Slickasaurus      26x1.5                20     5   \n",
       "\n",
       "     Dry Grip  Wet Grip  Dirt Grip  Flat   Comfort  Price  Road Quality  \\\n",
       "0           5         5          3      5        5      4             3   \n",
       "1           5         3          3      5        5      5             3   \n",
       "2           4         4          4      2        5      3             3   \n",
       "3           5         4          3      5        5      3             1   \n",
       "4           4         4          2      4        3      3             3   \n",
       "..        ...       ...        ...    ...      ...    ...           ...   \n",
       "208         5         4          4      5        5      5             3   \n",
       "209         5         5          5      3        4      5             2   \n",
       "210         4         4          3      4        5      5             4   \n",
       "211         4         4          1      5        5      5             2   \n",
       "212         5         5          3      3        3      5             3   \n",
       "\n",
       "    Buy Again?                                           Comments  \\\n",
       "0          Yes  Have tried many; Avocet Fasgrip is it, and no ...   \n",
       "1          Yes  Love this tire, and appreciate that a good fla...   \n",
       "2           No  The two strikes against these tires are (a) th...   \n",
       "3          Yes  Comfy and wide. At a guess I'd get three or so...   \n",
       "4          Yes  4000km of urban riding and 1 flat.  Do well on...   \n",
       "..         ...                                                ...   \n",
       "208        Yes  This tire isn't so hot at higher speeds or str...   \n",
       "209        Yes    A great rural tire. Heavy but tough and grippy.   \n",
       "210        Yes                                                NaN   \n",
       "211        Yes  pulled a goat head out of the sidewall last we...   \n",
       "212        Yes  The ride is a bit harsh when running at max pr...   \n",
       "\n",
       "                   Region  \n",
       "0              Tucson, AZ  \n",
       "1              Chicago IL  \n",
       "2        Portland, Oregon  \n",
       "3               San Diego  \n",
       "4       Vancouver, Canada  \n",
       "..                    ...  \n",
       "208               Tacoma!  \n",
       "209     rural Ca,rural Az  \n",
       "210      Kansas City area  \n",
       "211               SLC, UT  \n",
       "212  Colorado Springs, CO  \n",
       "\n",
       "[213 rows x 15 columns]"
      ]
     },
     "execution_count": 9,
     "metadata": {},
     "output_type": "execute_result"
    }
   ],
   "source": [
    "df_surevey"
   ]
  },
  {
   "cell_type": "code",
   "execution_count": null,
   "metadata": {
    "colab": {
     "base_uri": "https://localhost:8080/"
    },
    "executionInfo": {
     "elapsed": 11,
     "status": "ok",
     "timestamp": 1674374781150,
     "user": {
      "displayName": "Sanal P. S.",
      "userId": "04765052397544712389"
     },
     "user_tz": -330
    },
    "id": "teE-Fl5vePus",
    "outputId": "f421b313-1932-40ba-dac5-0655d6eaaabf"
   },
   "outputs": [
    {
     "data": {
      "text/plain": [
       "20"
      ]
     },
     "execution_count": 11,
     "metadata": {},
     "output_type": "execute_result"
    }
   ],
   "source": [
    "df_surevey.iloc[212][3]"
   ]
  },
  {
   "cell_type": "code",
   "execution_count": null,
   "metadata": {
    "colab": {
     "base_uri": "https://localhost:8080/",
     "height": 967
    },
    "executionInfo": {
     "elapsed": 2434,
     "status": "ok",
     "timestamp": 1674374788741,
     "user": {
      "displayName": "Sanal P. S.",
      "userId": "04765052397544712389"
     },
     "user_tz": -330
    },
    "id": "-u_kN3zhcPyf",
    "outputId": "89d27ac2-ec8a-472a-868b-ab083154a748"
   },
   "outputs": [
    {
     "data": {
      "text/plain": [
       "<matplotlib.axes._subplots.AxesSubplot at 0x7f06d8c9b3a0>"
      ]
     },
     "execution_count": 12,
     "metadata": {},
     "output_type": "execute_result"
    },
    {
     "data": {
      "image/png": "[encoded data removed]",
      "text/plain": [
       "<Figure size 2160x1296 with 2 Axes>"
      ]
     },
     "metadata": {
      "needs_background": "light"
     },
     "output_type": "display_data"
    }
   ],
   "source": [
    " import missingno as msno\n",
    " # Nullity or missing values by columns\n",
    " msno.matrix(df_surevey, figsize=(30, 18), color=(0.42, 0.1, 0.05))"
   ]
  },
  {
   "cell_type": "code",
   "execution_count": null,
   "metadata": {
    "colab": {
     "base_uri": "https://localhost:8080/",
     "height": 300
    },
    "executionInfo": {
     "elapsed": 633,
     "status": "ok",
     "timestamp": 1674375114610,
     "user": {
      "displayName": "Sanal P. S.",
      "userId": "04765052397544712389"
     },
     "user_tz": -330
    },
    "id": "CSy5XBmjcP1k",
    "outputId": "5d34f3fe-26e7-4d56-f398-6ffa8882d82d"
   },
   "outputs": [
    {
     "data": {
      "text/html": [
       "\n",
       "  <div id=\"df-3199dcbb-5894-409b-9f3b-2acee7733d3c\">\n",
       "    <div class=\"colab-df-container\">\n",
       "      <div>\n",
       "<style scoped>\n",
       "    .dataframe tbody tr th:only-of-type {\n",
       "        vertical-align: middle;\n",
       "    }\n",
       "\n",
       "    .dataframe tbody tr th {\n",
       "        vertical-align: top;\n",
       "    }\n",
       "\n",
       "    .dataframe thead th {\n",
       "        text-align: right;\n",
       "    }\n",
       "</style>\n",
       "<table border=\"1\" class=\"dataframe\">\n",
       "  <thead>\n",
       "    <tr style=\"text-align: right;\">\n",
       "      <th></th>\n",
       "      <th>Wear</th>\n",
       "      <th>Dry Grip</th>\n",
       "      <th>Wet Grip</th>\n",
       "      <th>Dirt Grip</th>\n",
       "      <th>Flat</th>\n",
       "      <th>Comfort</th>\n",
       "      <th>Price</th>\n",
       "      <th>Road Quality</th>\n",
       "    </tr>\n",
       "  </thead>\n",
       "  <tbody>\n",
       "    <tr>\n",
       "      <th>count</th>\n",
       "      <td>213.000000</td>\n",
       "      <td>213.000000</td>\n",
       "      <td>213.000000</td>\n",
       "      <td>213.000000</td>\n",
       "      <td>213.000000</td>\n",
       "      <td>213.000000</td>\n",
       "      <td>213.000000</td>\n",
       "      <td>213.000000</td>\n",
       "    </tr>\n",
       "    <tr>\n",
       "      <th>mean</th>\n",
       "      <td>4.272300</td>\n",
       "      <td>4.492958</td>\n",
       "      <td>3.962441</td>\n",
       "      <td>3.131455</td>\n",
       "      <td>4.305164</td>\n",
       "      <td>4.234742</td>\n",
       "      <td>3.934272</td>\n",
       "      <td>2.727700</td>\n",
       "    </tr>\n",
       "    <tr>\n",
       "      <th>std</th>\n",
       "      <td>0.995761</td>\n",
       "      <td>0.641488</td>\n",
       "      <td>1.017997</td>\n",
       "      <td>1.174251</td>\n",
       "      <td>0.978939</td>\n",
       "      <td>0.896173</td>\n",
       "      <td>2.272767</td>\n",
       "      <td>1.032963</td>\n",
       "    </tr>\n",
       "    <tr>\n",
       "      <th>min</th>\n",
       "      <td>0.000000</td>\n",
       "      <td>3.000000</td>\n",
       "      <td>0.000000</td>\n",
       "      <td>0.000000</td>\n",
       "      <td>0.000000</td>\n",
       "      <td>0.000000</td>\n",
       "      <td>0.000000</td>\n",
       "      <td>0.000000</td>\n",
       "    </tr>\n",
       "    <tr>\n",
       "      <th>25%</th>\n",
       "      <td>4.000000</td>\n",
       "      <td>4.000000</td>\n",
       "      <td>3.000000</td>\n",
       "      <td>2.000000</td>\n",
       "      <td>4.000000</td>\n",
       "      <td>4.000000</td>\n",
       "      <td>3.000000</td>\n",
       "      <td>2.000000</td>\n",
       "    </tr>\n",
       "    <tr>\n",
       "      <th>50%</th>\n",
       "      <td>5.000000</td>\n",
       "      <td>5.000000</td>\n",
       "      <td>4.000000</td>\n",
       "      <td>3.000000</td>\n",
       "      <td>5.000000</td>\n",
       "      <td>4.000000</td>\n",
       "      <td>4.000000</td>\n",
       "      <td>3.000000</td>\n",
       "    </tr>\n",
       "    <tr>\n",
       "      <th>75%</th>\n",
       "      <td>5.000000</td>\n",
       "      <td>5.000000</td>\n",
       "      <td>5.000000</td>\n",
       "      <td>4.000000</td>\n",
       "      <td>5.000000</td>\n",
       "      <td>5.000000</td>\n",
       "      <td>5.000000</td>\n",
       "      <td>3.000000</td>\n",
       "    </tr>\n",
       "    <tr>\n",
       "      <th>max</th>\n",
       "      <td>5.000000</td>\n",
       "      <td>5.000000</td>\n",
       "      <td>5.000000</td>\n",
       "      <td>5.000000</td>\n",
       "      <td>5.000000</td>\n",
       "      <td>5.000000</td>\n",
       "      <td>33.000000</td>\n",
       "      <td>5.000000</td>\n",
       "    </tr>\n",
       "  </tbody>\n",
       "</table>\n",
       "</div>\n",
       "      <button class=\"colab-df-convert\" onclick=\"convertToInteractive('df-3199dcbb-5894-409b-9f3b-2acee7733d3c')\"\n",
       "              title=\"Convert this dataframe to an interactive table.\"\n",
       "              style=\"display:none;\">\n",
       "        \n",
       "  <svg xmlns=\"http://www.w3.org/2000/svg\" height=\"24px\"viewBox=\"0 0 24 24\"\n",
       "       width=\"24px\">\n",
       "    <path d=\"M0 0h24v24H0V0z\" fill=\"none\"/>\n",
       "    <path d=\"M18.56 5.44l.94 2.06.94-2.06 2.06-.94-2.06-.94-.94-2.06-.94 2.06-2.06.94zm-11 1L8.5 8.5l.94-2.06 2.06-.94-2.06-.94L8.5 2.5l-.94 2.06-2.06.94zm10 10l.94 2.06.94-2.06 2.06-.94-2.06-.94-.94-2.06-.94 2.06-2.06.94z\"/><path d=\"M17.41 7.96l-1.37-1.37c-.4-.4-.92-.59-1.43-.59-.52 0-1.04.2-1.43.59L10.3 9.45l-7.72 7.72c-.78.78-.78 2.05 0 2.83L4 21.41c.39.39.9.59 1.41.59.51 0 1.02-.2 1.41-.59l7.78-7.78 2.81-2.81c.8-.78.8-2.07 0-2.86zM5.41 20L4 18.59l7.72-7.72 1.47 1.35L5.41 20z\"/>\n",
       "  </svg>\n",
       "      </button>\n",
       "      \n",
       "  <style>\n",
       "    .colab-df-container {\n",
       "      display:flex;\n",
       "      flex-wrap:wrap;\n",
       "      gap: 12px;\n",
       "    }\n",
       "\n",
       "    .colab-df-convert {\n",
       "      background-color: #E8F0FE;\n",
       "      border: none;\n",
       "      border-radius: 50%;\n",
       "      cursor: pointer;\n",
       "      display: none;\n",
       "      fill: #1967D2;\n",
       "      height: 32px;\n",
       "      padding: 0 0 0 0;\n",
       "      width: 32px;\n",
       "    }\n",
       "\n",
       "    .colab-df-convert:hover {\n",
       "      background-color: #E2EBFA;\n",
       "      box-shadow: 0px 1px 2px rgba(60, 64, 67, 0.3), 0px 1px 3px 1px rgba(60, 64, 67, 0.15);\n",
       "      fill: #174EA6;\n",
       "    }\n",
       "\n",
       "    [theme=dark] .colab-df-convert {\n",
       "      background-color: #3B4455;\n",
       "      fill: #D2E3FC;\n",
       "    }\n",
       "\n",
       "    [theme=dark] .colab-df-convert:hover {\n",
       "      background-color: #434B5C;\n",
       "      box-shadow: 0px 1px 3px 1px rgba(0, 0, 0, 0.15);\n",
       "      filter: drop-shadow(0px 1px 2px rgba(0, 0, 0, 0.3));\n",
       "      fill: #FFFFFF;\n",
       "    }\n",
       "  </style>\n",
       "\n",
       "      <script>\n",
       "        const buttonEl =\n",
       "          document.querySelector('#df-3199dcbb-5894-409b-9f3b-2acee7733d3c button.colab-df-convert');\n",
       "        buttonEl.style.display =\n",
       "          google.colab.kernel.accessAllowed ? 'block' : 'none';\n",
       "\n",
       "        async function convertToInteractive(key) {\n",
       "          const element = document.querySelector('#df-3199dcbb-5894-409b-9f3b-2acee7733d3c');\n",
       "          const dataTable =\n",
       "            await google.colab.kernel.invokeFunction('convertToInteractive',\n",
       "                                                     [key], {});\n",
       "          if (!dataTable) return;\n",
       "\n",
       "          const docLinkHtml = 'Like what you see? Visit the ' +\n",
       "            '<a target=\"_blank\" href=https://colab.research.google.com/notebooks/data_table.ipynb>data table notebook</a>'\n",
       "            + ' to learn more about interactive tables.';\n",
       "          element.innerHTML = '';\n",
       "          dataTable['output_type'] = 'display_data';\n",
       "          await google.colab.output.renderOutput(dataTable, element);\n",
       "          const docLink = document.createElement('div');\n",
       "          docLink.innerHTML = docLinkHtml;\n",
       "          element.appendChild(docLink);\n",
       "        }\n",
       "      </script>\n",
       "    </div>\n",
       "  </div>\n",
       "  "
      ],
      "text/plain": [
       "             Wear    Dry Grip    Wet Grip   Dirt Grip       Flat      Comfort  \\\n",
       "count  213.000000  213.000000  213.000000  213.000000  213.000000  213.000000   \n",
       "mean     4.272300    4.492958    3.962441    3.131455    4.305164    4.234742   \n",
       "std      0.995761    0.641488    1.017997    1.174251    0.978939    0.896173   \n",
       "min      0.000000    3.000000    0.000000    0.000000    0.000000    0.000000   \n",
       "25%      4.000000    4.000000    3.000000    2.000000    4.000000    4.000000   \n",
       "50%      5.000000    5.000000    4.000000    3.000000    5.000000    4.000000   \n",
       "75%      5.000000    5.000000    5.000000    4.000000    5.000000    5.000000   \n",
       "max      5.000000    5.000000    5.000000    5.000000    5.000000    5.000000   \n",
       "\n",
       "            Price  Road Quality  \n",
       "count  213.000000    213.000000  \n",
       "mean     3.934272      2.727700  \n",
       "std      2.272767      1.032963  \n",
       "min      0.000000      0.000000  \n",
       "25%      3.000000      2.000000  \n",
       "50%      4.000000      3.000000  \n",
       "75%      5.000000      3.000000  \n",
       "max     33.000000      5.000000  "
      ]
     },
     "execution_count": 14,
     "metadata": {},
     "output_type": "execute_result"
    }
   ],
   "source": [
    "df_surevey.describe()"
   ]
  },
  {
   "cell_type": "code",
   "execution_count": null,
   "metadata": {
    "colab": {
     "base_uri": "https://localhost:8080/",
     "height": 38
    },
    "executionInfo": {
     "elapsed": 713,
     "status": "ok",
     "timestamp": 1674375727447,
     "user": {
      "displayName": "Sanal P. S.",
      "userId": "04765052397544712389"
     },
     "user_tz": -330
    },
    "id": "gM17j-D7kKNS",
    "outputId": "f883b7bc-3135-4f68-af68-55766d5676d7"
   },
   "outputs": [
    {
     "data": {
      "application/vnd.google.colaboratory.intrinsic+json": {
       "type": "string"
      },
      "text/plain": [
       "'$40/pair'"
      ]
     },
     "execution_count": 21,
     "metadata": {},
     "output_type": "execute_result"
    }
   ],
   "source": [
    "df_surevey.iloc[70][3]"
   ]
  },
  {
   "cell_type": "code",
   "execution_count": null,
   "metadata": {
    "colab": {
     "base_uri": "https://localhost:8080/"
    },
    "executionInfo": {
     "elapsed": 525,
     "status": "ok",
     "timestamp": 1674375775860,
     "user": {
      "displayName": "Sanal P. S.",
      "userId": "04765052397544712389"
     },
     "user_tz": -330
    },
    "id": "d0SAwcOPkpYY",
    "outputId": "bcc02fa1-3c0d-4fef-a126-052a15dec70f"
   },
   "outputs": [
    {
     "data": {
      "text/plain": [
       "15"
      ]
     },
     "execution_count": 22,
     "metadata": {},
     "output_type": "execute_result"
    }
   ],
   "source": [
    "df_surevey.iloc[71][3]"
   ]
  },
  {
   "cell_type": "code",
   "execution_count": null,
   "metadata": {
    "id": "PBy3VQGkklyw"
   },
   "outputs": [],
   "source": [
    "df_surevey.at[70, 3]=40"
   ]
  },
  {
   "cell_type": "code",
   "execution_count": null,
   "metadata": {
    "colab": {
     "base_uri": "https://localhost:8080/"
    },
    "executionInfo": {
     "elapsed": 1139,
     "status": "ok",
     "timestamp": 1674376067283,
     "user": {
      "displayName": "Sanal P. S.",
      "userId": "04765052397544712389"
     },
     "user_tz": -330
    },
    "id": "2Qe_vpmyk0YM",
    "outputId": "37b4811a-effe-450a-9e20-43e4c92723e7"
   },
   "outputs": [
    {
     "data": {
      "text/plain": [
       "40.0"
      ]
     },
     "execution_count": 27,
     "metadata": {},
     "output_type": "execute_result"
    }
   ],
   "source": [
    "df_surevey.iloc[70][3]"
   ]
  },
  {
   "cell_type": "code",
   "execution_count": null,
   "metadata": {
    "colab": {
     "base_uri": "https://localhost:8080/"
    },
    "executionInfo": {
     "elapsed": 549,
     "status": "ok",
     "timestamp": 1674376074654,
     "user": {
      "displayName": "Sanal P. S.",
      "userId": "04765052397544712389"
     },
     "user_tz": -330
    },
    "id": "WO9qrAL1jiaM",
    "outputId": "1a50990c-bdec-4593-e9b8-650e297e3b68"
   },
   "outputs": [
    {
     "name": "stdout",
     "output_type": "stream",
     "text": [
      "<class 'pandas.core.frame.DataFrame'>\n",
      "RangeIndex: 213 entries, 0 to 212\n",
      "Data columns (total 16 columns):\n",
      " #   Column             Non-Null Count  Dtype  \n",
      "---  ------             --------------  -----  \n",
      " 0   Brand              213 non-null    object \n",
      " 1   Model              213 non-null    object \n",
      " 2   Size               213 non-null    object \n",
      " 3   Price (2007-2009)  213 non-null    object \n",
      " 4   Wear               213 non-null    int64  \n",
      " 5   Dry Grip           213 non-null    int64  \n",
      " 6   Wet Grip           213 non-null    int64  \n",
      " 7   Dirt Grip          213 non-null    int64  \n",
      " 8   Flat               213 non-null    int64  \n",
      " 9   Comfort            213 non-null    int64  \n",
      " 10  Price              213 non-null    int64  \n",
      " 11  Road Quality       213 non-null    int64  \n",
      " 12  Buy Again?         213 non-null    object \n",
      " 13  Comments           206 non-null    object \n",
      " 14  Region             213 non-null    object \n",
      " 15  3                  1 non-null      float64\n",
      "dtypes: float64(1), int64(8), object(7)\n",
      "memory usage: 26.8+ KB\n"
     ]
    }
   ],
   "source": [
    "df_surevey.info()"
   ]
  },
  {
   "cell_type": "code",
   "execution_count": null,
   "metadata": {
    "colab": {
     "base_uri": "https://localhost:8080/"
    },
    "executionInfo": {
     "elapsed": 504,
     "status": "ok",
     "timestamp": 1674376096884,
     "user": {
      "displayName": "Sanal P. S.",
      "userId": "04765052397544712389"
     },
     "user_tz": -330
    },
    "id": "HGcqJCK1cP5K",
    "outputId": "58806d66-6bc3-41b6-dcc2-795eb2bf98ca"
   },
   "outputs": [
    {
     "data": {
      "text/plain": [
       "0      29\n",
       "1      35\n",
       "2      80\n",
       "3      25\n",
       "4      25\n",
       "       ..\n",
       "208    20\n",
       "209    20\n",
       "210    30\n",
       "211    10\n",
       "212    20\n",
       "Name: Price (2007-2009), Length: 213, dtype: object"
      ]
     },
     "execution_count": 29,
     "metadata": {},
     "output_type": "execute_result"
    }
   ],
   "source": [
    "price_list = df_surevey['Price (2007-2009)']\n",
    "price_list"
   ]
  },
  {
   "cell_type": "code",
   "execution_count": null,
   "metadata": {
    "colab": {
     "base_uri": "https://localhost:8080/"
    },
    "executionInfo": {
     "elapsed": 7,
     "status": "ok",
     "timestamp": 1674376176021,
     "user": {
      "displayName": "Sanal P. S.",
      "userId": "04765052397544712389"
     },
     "user_tz": -330
    },
    "id": "GxyB4sHMcP7_",
    "outputId": "a1f58c3d-ca00-49e3-9a21-4b86d27f6860"
   },
   "outputs": [
    {
     "data": {
      "text/plain": [
       "80    $120\n",
       "81     $24\n",
       "82      17\n",
       "83     $17\n",
       "84      18\n",
       "85      25\n",
       "86      20\n",
       "87     $30\n",
       "88     $19\n",
       "89     $37\n",
       "Name: Price (2007-2009), dtype: object"
      ]
     },
     "execution_count": 30,
     "metadata": {},
     "output_type": "execute_result"
    }
   ],
   "source": [
    "price_list[80:90]"
   ]
  },
  {
   "cell_type": "code",
   "execution_count": null,
   "metadata": {
    "colab": {
     "base_uri": "https://localhost:8080/"
    },
    "executionInfo": {
     "elapsed": 620,
     "status": "ok",
     "timestamp": 1674376526045,
     "user": {
      "displayName": "Sanal P. S.",
      "userId": "04765052397544712389"
     },
     "user_tz": -330
    },
    "id": "FDIU_plscP_M",
    "outputId": "74169bc3-3e71-4b53-b9fb-2f639636fa67"
   },
   "outputs": [
    {
     "name": "stderr",
     "output_type": "stream",
     "text": [
      "<ipython-input-31-da73f26d0f2c>:1: FutureWarning: The default value of regex will change from True to False in a future version. In addition, single character regular expressions will *not* be treated as literal strings when regex=True.\n",
      "  df_surevey['Price (2007-2009)'] = df_surevey['Price (2007-2009)'].str.replace('$', '')\n"
     ]
    }
   ],
   "source": [
    "df_surevey['Price (2007-2009)'] = df_surevey['Price (2007-2009)'].str.replace('$', '')"
   ]
  },
  {
   "cell_type": "code",
   "execution_count": null,
   "metadata": {
    "colab": {
     "base_uri": "https://localhost:8080/"
    },
    "executionInfo": {
     "elapsed": 36,
     "status": "ok",
     "timestamp": 1674376559989,
     "user": {
      "displayName": "Sanal P. S.",
      "userId": "04765052397544712389"
     },
     "user_tz": -330
    },
    "id": "bnnC-121cQBK",
    "outputId": "dc90824d-f7bf-4714-d163-87390c330101"
   },
   "outputs": [
    {
     "data": {
      "text/plain": [
       "80    120\n",
       "81     24\n",
       "82    NaN\n",
       "83     17\n",
       "84    NaN\n",
       "85    NaN\n",
       "86    NaN\n",
       "87     30\n",
       "88     19\n",
       "89     37\n",
       "Name: Price (2007-2009), dtype: object"
      ]
     },
     "execution_count": 32,
     "metadata": {},
     "output_type": "execute_result"
    }
   ],
   "source": [
    "price_list = df_surevey['Price (2007-2009)']\n",
    "price_list[80:90]"
   ]
  },
  {
   "cell_type": "code",
   "execution_count": null,
   "metadata": {
    "id": "7kADokzocQEL"
   },
   "outputs": [],
   "source": []
  },
  {
   "cell_type": "code",
   "execution_count": null,
   "metadata": {
    "id": "1qoV1eY6cQHY"
   },
   "outputs": [],
   "source": []
  }
 ],
 "metadata": {
  "colab": {
   "authorship_tag": "ABX9TyNE3n43hjVLEFniu+2VJtL5",
   "provenance": []
  },
  "kernelspec": {
   "display_name": "Python 3 (ipykernel)",
   "language": "python",
   "name": "python3"
  },
  "language_info": {
   "codemirror_mode": {
    "name": "ipython",
    "version": 3
   },
   "file_extension": ".py",
   "mimetype": "text/x-python",
   "name": "python",
   "nbconvert_exporter": "python",
   "pygments_lexer": "ipython3",
   "version": "3.10.6"
  }
 },
 "nbformat": 4,
 "nbformat_minor": 4
}
